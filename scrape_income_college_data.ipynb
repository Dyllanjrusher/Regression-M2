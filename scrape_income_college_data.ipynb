{
 "cells": [
  {
   "cell_type": "code",
   "execution_count": 2,
   "metadata": {},
   "outputs": [],
   "source": [
    "from bs4 import BeautifulSoup\n",
    "import requests\n",
    "import re\n",
    "import time\n",
    "import pandas as pd"
   ]
  },
  {
   "cell_type": "code",
   "execution_count": 3,
   "metadata": {},
   "outputs": [],
   "source": [
    "def get_income_data_urls ():\n",
    "    base = 'https://www.payscale.com/college-salary-report/bachelors'\n",
    "    urls = []\n",
    "    urls.append(base)\n",
    "    for page_num in range(2, 63):\n",
    "        urls.append('{}/page/{}'.format(base, page_num))\n",
    "    return urls"
   ]
  },
  {
   "cell_type": "code",
   "execution_count": 4,
   "metadata": {},
   "outputs": [],
   "source": [
    "def get_row_data(row):\n",
    "    school_name_test = row.find('td', class_ = 'data-table__cell csr-col--school-name').find('a')\n",
    "    #Some of the school names don't have a link to the website.\n",
    "    if school_name_test == None:\n",
    "        school_name = row.find('td', class_ = 'data-table__cell csr-col--school-name').find('img').text\n",
    "    else:\n",
    "        school_name = school_name_test.text\n",
    "    early_career_pay = (row.find(text=re.compile('Early Career Pay'))\n",
    "                        .parent.next_sibling.text\n",
    "                        .replace('$', '').replace(',', ''))\n",
    "    mid_career_pay = (row.find(text=re.compile('Mid-Career Pay'))\n",
    "                        .parent.next_sibling.text\n",
    "                        .replace('$', '').replace(',', ''))\n",
    "    percent_stem = (row.find(text=re.compile('% STEM Degrees'))\n",
    "                        .parent.next_sibling.text\n",
    "                        .replace('%', ''))\n",
    "    \n",
    "    return [school_name, early_career_pay, mid_career_pay, percent_stem]"
   ]
  },
  {
   "cell_type": "code",
   "execution_count": 7,
   "metadata": {},
   "outputs": [],
   "source": [
    "def get_table_all_pages(urls):\n",
    "    income_data = []\n",
    "    for url in urls:\n",
    "        req = requests.get(url)\n",
    "        soup = BeautifulSoup(req.content, 'html.parser')\n",
    "        rows = soup.find_all('tr', class_ = 'data-table__row')\n",
    "        for row in rows:\n",
    "            income_data.append(get_row_data(row))\n",
    "        time.sleep(.3)\n",
    "    return income_data\n",
    "        "
   ]
  },
  {
   "cell_type": "code",
   "execution_count": 9,
   "metadata": {},
   "outputs": [],
   "source": [
    "def make_income_df():\n",
    "    income_urls = get_income_data_urls()\n",
    "    income_data = get_table_all_pages(income_urls)\n",
    "    income_header = ['school', 'early_pay', 'mid_pay', '%stem']\n",
    "    income_df = pd.DataFrame(income_data, columns = income_header)\n",
    "    return income_df"
   ]
  },
  {
   "cell_type": "code",
   "execution_count": 10,
   "metadata": {},
   "outputs": [],
   "source": [
    "income_df = make_income_df()"
   ]
  },
  {
   "cell_type": "code",
   "execution_count": 12,
   "metadata": {},
   "outputs": [
    {
     "data": {
      "text/html": [
       "<div>\n",
       "<style scoped>\n",
       "    .dataframe tbody tr th:only-of-type {\n",
       "        vertical-align: middle;\n",
       "    }\n",
       "\n",
       "    .dataframe tbody tr th {\n",
       "        vertical-align: top;\n",
       "    }\n",
       "\n",
       "    .dataframe thead th {\n",
       "        text-align: right;\n",
       "    }\n",
       "</style>\n",
       "<table border=\"1\" class=\"dataframe\">\n",
       "  <thead>\n",
       "    <tr style=\"text-align: right;\">\n",
       "      <th></th>\n",
       "      <th>school</th>\n",
       "      <th>early_pay</th>\n",
       "      <th>mid_pay</th>\n",
       "      <th>%stem</th>\n",
       "    </tr>\n",
       "  </thead>\n",
       "  <tbody>\n",
       "    <tr>\n",
       "      <th>916</th>\n",
       "      <td>Alabama A &amp; M University</td>\n",
       "      <td>48700</td>\n",
       "      <td>83500</td>\n",
       "      <td>20</td>\n",
       "    </tr>\n",
       "  </tbody>\n",
       "</table>\n",
       "</div>"
      ],
      "text/plain": [
       "                       school early_pay mid_pay %stem\n",
       "916  Alabama A & M University     48700   83500    20"
      ]
     },
     "execution_count": 12,
     "metadata": {},
     "output_type": "execute_result"
    }
   ],
   "source": [
    "income_df[income_df['school'] == 'Alabama A & M University']"
   ]
  },
  {
   "cell_type": "code",
   "execution_count": 13,
   "metadata": {},
   "outputs": [
    {
     "data": {
      "text/plain": [
       "1550"
      ]
     },
     "execution_count": 13,
     "metadata": {},
     "output_type": "execute_result"
    }
   ],
   "source": [
    "len(income_df)"
   ]
  },
  {
   "cell_type": "code",
   "execution_count": null,
   "metadata": {},
   "outputs": [],
   "source": []
  }
 ],
 "metadata": {
  "kernelspec": {
   "display_name": "Python 3",
   "language": "python",
   "name": "python3"
  },
  "language_info": {
   "codemirror_mode": {
    "name": "ipython",
    "version": 3
   },
   "file_extension": ".py",
   "mimetype": "text/x-python",
   "name": "python",
   "nbconvert_exporter": "python",
   "pygments_lexer": "ipython3",
   "version": "3.8.3"
  }
 },
 "nbformat": 4,
 "nbformat_minor": 4
}
