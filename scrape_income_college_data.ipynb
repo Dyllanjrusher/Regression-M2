{
 "cells": [
  {
   "cell_type": "code",
   "execution_count": 105,
   "metadata": {},
   "outputs": [],
   "source": [
    "from bs4 import BeautifulSoup\n",
    "import requests\n",
    "import re\n",
    "import time\n",
    "import pandas as pd"
   ]
  },
  {
   "cell_type": "code",
   "execution_count": 2,
   "metadata": {},
   "outputs": [],
   "source": [
    "def get_income_data_urls ():\n",
    "    base = 'https://www.payscale.com/college-salary-report/bachelors'\n",
    "    urls = []\n",
    "    urls.append(base)\n",
    "    for page_num in range(2, 63):\n",
    "        urls.append('{}/page/{}'.format(base, page_num))\n",
    "    return urls"
   ]
  },
  {
   "cell_type": "code",
   "execution_count": 92,
   "metadata": {},
   "outputs": [],
   "source": [
    "def get_row_data(row):\n",
    "    school_name_test = row.find('td', class_ = 'data-table__cell csr-col--school-name').find('a')\n",
    "    #Some of the school names don't have a link to the website.\n",
    "    if school_name_test == None:\n",
    "        school_name = row.find('td', class_ = 'data-table__cell csr-col--school-name').find('img').text\n",
    "    else:\n",
    "        school_name = school_name_test.text\n",
    "    early_career_pay = (row.find(text=re.compile('Early Career Pay'))\n",
    "                        .parent.next_sibling.text\n",
    "                        .replace('$', '').replace(',', ''))\n",
    "    mid_career_pay = (row.find(text=re.compile('Mid-Career Pay'))\n",
    "                        .parent.next_sibling.text\n",
    "                        .replace('$', '').replace(',', ''))\n",
    "    percent_stem = (row.find(text=re.compile('% STEM Degrees'))\n",
    "                        .parent.next_sibling.text\n",
    "                        .replace('%', ''))\n",
    "    \n",
    "    return [school_name, early_career_pay, mid_career_pay, percent_stem]"
   ]
  },
  {
   "cell_type": "code",
   "execution_count": 93,
   "metadata": {},
   "outputs": [
    {
     "data": {
      "text/plain": [
       "['Harvey Mudd College', '88800', '158200', '85']"
      ]
     },
     "execution_count": 93,
     "metadata": {},
     "output_type": "execute_result"
    }
   ],
   "source": [
    "get_row_data(rows[0])"
   ]
  },
  {
   "cell_type": "code",
   "execution_count": 96,
   "metadata": {},
   "outputs": [],
   "source": [
    "def get_table_all_pages(urls):\n",
    "    income_data = []\n",
    "    for url in urls:\n",
    "        req = requests.get(url)\n",
    "        soup = BeautifulSoup(req.content, 'html.parser')\n",
    "        rows = soup.find_all('tr', class_ = 'data-table__row')\n",
    "        for row in rows:\n",
    "            income_data.append(get_row_data(row))\n",
    "        time.sleep(.3)\n",
    "    return income_data\n",
    "        "
   ]
  },
  {
   "cell_type": "code",
   "execution_count": 98,
   "metadata": {},
   "outputs": [],
   "source": [
    "income_data = get_table_all_pages(income_urls)"
   ]
  },
  {
   "cell_type": "code",
   "execution_count": 101,
   "metadata": {},
   "outputs": [],
   "source": [
    "def make_income_df():\n",
    "    income_urls = get_income_data_urls()\n",
    "    income_data = get_table_all_pages(income_urls)\n",
    "    income_header = ['school', 'early_pay', 'mid_pay', '%stem']\n",
    "    income_df = pd.DataFrame(income_data, columns = income_header)\n",
    "    return income_df"
   ]
  },
  {
   "cell_type": "code",
   "execution_count": 102,
   "metadata": {},
   "outputs": [],
   "source": [
    "income_df = make_income_df()"
   ]
  },
  {
   "cell_type": "code",
   "execution_count": 104,
   "metadata": {},
   "outputs": [
    {
     "data": {
      "text/html": [
       "<div>\n",
       "<style scoped>\n",
       "    .dataframe tbody tr th:only-of-type {\n",
       "        vertical-align: middle;\n",
       "    }\n",
       "\n",
       "    .dataframe tbody tr th {\n",
       "        vertical-align: top;\n",
       "    }\n",
       "\n",
       "    .dataframe thead th {\n",
       "        text-align: right;\n",
       "    }\n",
       "</style>\n",
       "<table border=\"1\" class=\"dataframe\">\n",
       "  <thead>\n",
       "    <tr style=\"text-align: right;\">\n",
       "      <th></th>\n",
       "      <th>school</th>\n",
       "      <th>early_pay</th>\n",
       "      <th>mid_pay</th>\n",
       "      <th>%stem</th>\n",
       "    </tr>\n",
       "  </thead>\n",
       "  <tbody>\n",
       "    <tr>\n",
       "      <th>0</th>\n",
       "      <td>Harvey Mudd College</td>\n",
       "      <td>88800</td>\n",
       "      <td>158200</td>\n",
       "      <td>85</td>\n",
       "    </tr>\n",
       "    <tr>\n",
       "      <th>1</th>\n",
       "      <td>Massachusetts Institute of Technology</td>\n",
       "      <td>86300</td>\n",
       "      <td>155200</td>\n",
       "      <td>69</td>\n",
       "    </tr>\n",
       "    <tr>\n",
       "      <th>2</th>\n",
       "      <td>Samuel Merritt University</td>\n",
       "      <td>91200</td>\n",
       "      <td>154100</td>\n",
       "      <td>0</td>\n",
       "    </tr>\n",
       "    <tr>\n",
       "      <th>3</th>\n",
       "      <td>United States Naval Academy</td>\n",
       "      <td>80100</td>\n",
       "      <td>152800</td>\n",
       "      <td>58</td>\n",
       "    </tr>\n",
       "    <tr>\n",
       "      <th>4</th>\n",
       "      <td>California Institute of Technology</td>\n",
       "      <td>84100</td>\n",
       "      <td>151600</td>\n",
       "      <td>97</td>\n",
       "    </tr>\n",
       "    <tr>\n",
       "      <th>...</th>\n",
       "      <td>...</td>\n",
       "      <td>...</td>\n",
       "      <td>...</td>\n",
       "      <td>...</td>\n",
       "    </tr>\n",
       "    <tr>\n",
       "      <th>1545</th>\n",
       "      <td>Stillman College</td>\n",
       "      <td>35600</td>\n",
       "      <td>63500</td>\n",
       "      <td>24</td>\n",
       "    </tr>\n",
       "    <tr>\n",
       "      <th>1546</th>\n",
       "      <td>Pacific Oaks College</td>\n",
       "      <td>34900</td>\n",
       "      <td>63100</td>\n",
       "      <td>0</td>\n",
       "    </tr>\n",
       "    <tr>\n",
       "      <th>1547</th>\n",
       "      <td>Edward Waters College</td>\n",
       "      <td>34600</td>\n",
       "      <td>63000</td>\n",
       "      <td>17</td>\n",
       "    </tr>\n",
       "    <tr>\n",
       "      <th>1548</th>\n",
       "      <td>Talladega College</td>\n",
       "      <td>34100</td>\n",
       "      <td>62800</td>\n",
       "      <td>22</td>\n",
       "    </tr>\n",
       "    <tr>\n",
       "      <th>1549</th>\n",
       "      <td>Shaw University</td>\n",
       "      <td>35600</td>\n",
       "      <td>62400</td>\n",
       "      <td>4</td>\n",
       "    </tr>\n",
       "  </tbody>\n",
       "</table>\n",
       "<p>1550 rows × 4 columns</p>\n",
       "</div>"
      ],
      "text/plain": [
       "                                     school early_pay mid_pay %stem\n",
       "0                       Harvey Mudd College     88800  158200    85\n",
       "1     Massachusetts Institute of Technology     86300  155200    69\n",
       "2                 Samuel Merritt University     91200  154100     0\n",
       "3               United States Naval Academy     80100  152800    58\n",
       "4        California Institute of Technology     84100  151600    97\n",
       "...                                     ...       ...     ...   ...\n",
       "1545                       Stillman College     35600   63500    24\n",
       "1546                   Pacific Oaks College     34900   63100     0\n",
       "1547                  Edward Waters College     34600   63000    17\n",
       "1548                      Talladega College     34100   62800    22\n",
       "1549                        Shaw University     35600   62400     4\n",
       "\n",
       "[1550 rows x 4 columns]"
      ]
     },
     "execution_count": 104,
     "metadata": {},
     "output_type": "execute_result"
    }
   ],
   "source": [
    "income_df"
   ]
  },
  {
   "cell_type": "code",
   "execution_count": null,
   "metadata": {},
   "outputs": [],
   "source": []
  }
 ],
 "metadata": {
  "kernelspec": {
   "display_name": "Python [conda env:metis] *",
   "language": "python",
   "name": "conda-env-metis-py"
  },
  "language_info": {
   "codemirror_mode": {
    "name": "ipython",
    "version": 3
   },
   "file_extension": ".py",
   "mimetype": "text/x-python",
   "name": "python",
   "nbconvert_exporter": "python",
   "pygments_lexer": "ipython3",
   "version": "3.8.3"
  }
 },
 "nbformat": 4,
 "nbformat_minor": 4
}
