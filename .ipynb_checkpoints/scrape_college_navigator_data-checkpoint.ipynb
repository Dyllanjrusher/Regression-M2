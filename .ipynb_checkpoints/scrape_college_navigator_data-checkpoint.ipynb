{
 "cells": [
  {
   "cell_type": "code",
   "execution_count": 1,
   "metadata": {},
   "outputs": [],
   "source": [
    "from bs4 import BeautifulSoup\n",
    "import requests\n",
    "import re\n",
    "import time\n",
    "import pandas as pd"
   ]
  },
  {
   "cell_type": "code",
   "execution_count": 2,
   "metadata": {},
   "outputs": [],
   "source": [
    "#im just gonna try to use selenium i guess\n",
    "from selenium import webdriver\n",
    "import pandas as pd"
   ]
  },
  {
   "cell_type": "code",
   "execution_count": 3,
   "metadata": {},
   "outputs": [],
   "source": [
    "def load_webpage():\n",
    "    driver = webdriver.Chrome('/usr/bin/chromedriver')\n",
    "    driver.get('https://nces.ed.gov/collegenavigator/')\n",
    "    return driver"
   ]
  },
  {
   "cell_type": "code",
   "execution_count": 4,
   "metadata": {},
   "outputs": [],
   "source": [
    "def get_search_options():\n",
    "    el = driver.find_element_by_id('MapWrap')\n",
    "    options = el.find_elements_by_tag_name('option')\n",
    "    return options"
   ]
  },
  {
   "cell_type": "code",
   "execution_count": 5,
   "metadata": {},
   "outputs": [],
   "source": [
    "def search_for_option(no_pref, option):\n",
    "    no_pref.click() #deselect no preference\n",
    "    option.click()\n",
    "    bachelors_button = driver.find_element_by_id('ctl00_cphCollegeNavBody_ucSearchMain_chkBach')\n",
    "    bachelors_button.click()\n",
    "    search_button = driver.find_element_by_id('ctl00_cphCollegeNavBody_ucSearchMain_btnSearch')\n",
    "    search_button.click()\n",
    "    return"
   ]
  },
  {
   "cell_type": "code",
   "execution_count": 6,
   "metadata": {},
   "outputs": [],
   "source": [
    "def get_student_pop():\n",
    "    try:\n",
    "        student_pop = driver.find_element_by_css_selector(\"#RightContent > div.dashboard > div > div:nth-child(2) > table > tbody > tr:nth-child(7) > td.srb + td\")\n",
    "        student_pop = re.findall('\\d+', student_pop.text.replace(',',''))[0]\n",
    "    except:\n",
    "        student_pop = None\n",
    "    return student_pop"
   ]
  },
  {
   "cell_type": "code",
   "execution_count": 7,
   "metadata": {},
   "outputs": [],
   "source": [
    "def get_college_data_row():\n",
    "    #right now I just grab the name and student population.\n",
    "    #ill probably have individual funcs for grabbing each param later.\n",
    "    college_data_row = []\n",
    "    name = driver.find_element_by_css_selector(\".headerlg\").text\n",
    "    student_pop = get_student_pop()\n",
    "    college_data_row.extend([name, student_pop])\n",
    "    print(college_data_row)\n",
    "    return college_data_row"
   ]
  },
  {
   "cell_type": "code",
   "execution_count": 8,
   "metadata": {},
   "outputs": [],
   "source": [
    "def get_data_on_page():\n",
    "    data = []\n",
    "    rows = driver.find_elements_by_css_selector(\".resultsTable > tbody > tr\")\n",
    "    for ix, row in enumerate(rows):\n",
    "        college_link = (driver\n",
    "               .find_elements_by_css_selector(\".resultsTable > tbody > tr\")[ix]\n",
    "               .find_element_by_css_selector(\"a\"))\n",
    "        college_link.click()\n",
    "        row = get_college_data_row()\n",
    "        data.append(row)\n",
    "        driver.back()\n",
    "        time.sleep(1)\n",
    "    return data"
   ]
  },
  {
   "cell_type": "code",
   "execution_count": 9,
   "metadata": {},
   "outputs": [],
   "source": [
    "def next_page(selected_page_num):\n",
    "    css_addition = ' + a'*selected_page_num\n",
    "    try:\n",
    "        driver.find_element_by_css_selector('.colorful' + css_addition).click()\n",
    "        return True\n",
    "    except:\n",
    "        return False"
   ]
  },
  {
   "cell_type": "code",
   "execution_count": 10,
   "metadata": {},
   "outputs": [],
   "source": [
    "def get_data_for_all_pages():\n",
    "    data = get_data_on_page()\n",
    "    page_num = 1\n",
    "    can_go_to_next_page = next_page(page_num)\n",
    "    while can_go_to_next_page == True:\n",
    "        data.extend(get_data_on_page())\n",
    "        page_num += 1\n",
    "        can_go_to_next_page = next_page(page_num)\n",
    "    return data"
   ]
  },
  {
   "cell_type": "code",
   "execution_count": 11,
   "metadata": {},
   "outputs": [],
   "source": [
    "def get_all_college_data(driver):\n",
    "    option_ix = 1\n",
    "    college_data = []\n",
    "    more_options = True\n",
    "    while more_options:\n",
    "        time.sleep(.2)\n",
    "        options = get_search_options()\n",
    "        no_pref = options[0]\n",
    "        try:\n",
    "            option = options[option_ix]\n",
    "            search_for_option(no_pref, option)\n",
    "            college_data.extend(get_data_for_all_pages())\n",
    "            driver.get('https://nces.ed.gov/collegenavigator/')\n",
    "            option_ix += 1\n",
    "        except:\n",
    "            more_options = False\n",
    "    return college_data"
   ]
  },
  {
   "cell_type": "code",
   "execution_count": 12,
   "metadata": {},
   "outputs": [
    {
     "name": "stdout",
     "output_type": "stream",
     "text": [
      "['Alabama A & M University', '6106']\n",
      "['Alabama State University', '4413']\n",
      "['Amridge University', '755']\n",
      "['Athens State University', '3044']\n",
      "['Auburn University', '30440']\n",
      "['Auburn University at Montgomery', '5211']\n"
     ]
    },
    {
     "data": {
      "text/plain": [
       "[]"
      ]
     },
     "execution_count": 12,
     "metadata": {},
     "output_type": "execute_result"
    }
   ],
   "source": [
    "driver = load_webpage()\n",
    "get_all_college_data(driver)"
   ]
  },
  {
   "cell_type": "code",
   "execution_count": 29,
   "metadata": {},
   "outputs": [],
   "source": [
    "driver = load_webpage()"
   ]
  },
  {
   "cell_type": "code",
   "execution_count": 76,
   "metadata": {},
   "outputs": [],
   "source": [
    "driver.get('https://nces.ed.gov/collegenavigator/?s=CA&l=93&pg=5&id=113236')"
   ]
  },
  {
   "cell_type": "code",
   "execution_count": 31,
   "metadata": {},
   "outputs": [],
   "source": [
    "def get_info_table():\n",
    "    info_table = driver.find_element_by_css_selector('#RightContent > div.dashboard > div')\n",
    "    return info_table"
   ]
  },
  {
   "cell_type": "code",
   "execution_count": 64,
   "metadata": {},
   "outputs": [],
   "source": [
    "table = get_info_table()"
   ]
  },
  {
   "cell_type": "code",
   "execution_count": 92,
   "metadata": {},
   "outputs": [],
   "source": [
    "def find_number(text, c):\n",
    "    return re.search(r'%s(\\d+)' % c, text).group(1)"
   ]
  },
  {
   "cell_type": "code",
   "execution_count": 93,
   "metadata": {},
   "outputs": [],
   "source": [
    "def find_student_faculty_ratio():\n",
    "    info = get_info_table()\n",
    "    num_students = find_number(info.text, 'Student-to-faculty ratio:   ' )\n",
    "    num_teachers = find_number(info.text, 'Student-to-faculty ratio:   {} to '.format(num_students))\n",
    "    ratio = int(num_students) / int(num_teachers)\n",
    "    return ratio"
   ]
  },
  {
   "cell_type": "code",
   "execution_count": 94,
   "metadata": {},
   "outputs": [],
   "source": [
    "def find_campus_setting():\n",
    "    info = get_info_table().text\n",
    "    setting = re.search('Campus setting:   (.*)\\n', info).group(1)\n",
    "    return setting"
   ]
  },
  {
   "cell_type": "code",
   "execution_count": 116,
   "metadata": {},
   "outputs": [],
   "source": [
    "def get_IPEDS_ID():\n",
    "    info = get_info_table().text\n",
    "    url = str(driver.current_url)\n",
    "    ID = int(find_number(text = url, c = 'id='))\n",
    "    return ID"
   ]
  },
  {
   "cell_type": "code",
   "execution_count": 102,
   "metadata": {},
   "outputs": [],
   "source": [
    "table = get_info_table()"
   ]
  },
  {
   "cell_type": "code",
   "execution_count": 103,
   "metadata": {},
   "outputs": [
    {
     "data": {
      "text/plain": [
       "\"View on Google Maps\\n\\nIPEDS ID: 363916\\nOPE ID: 01252501\\nCaribbean University-Vega Baja\\nCarr 671 K.M. 5, Sector El Criollo, Bo. Algarrobo, Vega Baja, Puerto Rico 00964\\nGeneral information:   (787) 858-3668\\nWebsite:   www.caribbean.edu\\nType:   4-year, Private not-for-profit\\nAwards offered:   Associate's degree\\nBachelor's degree\\nMaster's degree\\nCampus setting:   Suburb: Large\\nCampus housing:   No\\nStudent population:   211 (200 undergraduate)\\nStudent-to-faculty ratio:   8 to 1\""
      ]
     },
     "execution_count": 103,
     "metadata": {},
     "output_type": "execute_result"
    }
   ],
   "source": [
    "table.text"
   ]
  },
  {
   "cell_type": "code",
   "execution_count": 97,
   "metadata": {},
   "outputs": [
    {
     "data": {
      "text/plain": [
       "13.0"
      ]
     },
     "execution_count": 97,
     "metadata": {},
     "output_type": "execute_result"
    }
   ],
   "source": [
    "find_student_faculty_ratio()"
   ]
  },
  {
   "cell_type": "code",
   "execution_count": 98,
   "metadata": {},
   "outputs": [
    {
     "data": {
      "text/plain": [
       "'City: Large'"
      ]
     },
     "execution_count": 98,
     "metadata": {},
     "output_type": "execute_result"
    }
   ],
   "source": [
    "find_campus_setting()"
   ]
  },
  {
   "cell_type": "code",
   "execution_count": 117,
   "metadata": {},
   "outputs": [
    {
     "data": {
      "text/plain": [
       "363916"
      ]
     },
     "execution_count": 117,
     "metadata": {},
     "output_type": "execute_result"
    }
   ],
   "source": [
    "get_IPEDS_ID()"
   ]
  },
  {
   "cell_type": "code",
   "execution_count": 121,
   "metadata": {},
   "outputs": [],
   "source": [
    "def expand_all():\n",
    "    pointer = driver.find_element_by_css_selector('#RightContent > div.fadeyell > div > a:nth-child(1)')\n",
    "    pointer.click()\n",
    "    return"
   ]
  },
  {
   "cell_type": "code",
   "execution_count": 124,
   "metadata": {},
   "outputs": [],
   "source": [
    "expand_all()"
   ]
  },
  {
   "cell_type": "code",
   "execution_count": null,
   "metadata": {},
   "outputs": [],
   "source": [
    "def get_percent_aid():\n",
    "    "
   ]
  },
  {
   "cell_type": "code",
   "execution_count": null,
   "metadata": {},
   "outputs": [],
   "source": []
  }
 ],
 "metadata": {
  "kernelspec": {
   "display_name": "Python [conda env:metis] *",
   "language": "python",
   "name": "conda-env-metis-py"
  },
  "language_info": {
   "codemirror_mode": {
    "name": "ipython",
    "version": 3
   },
   "file_extension": ".py",
   "mimetype": "text/x-python",
   "name": "python",
   "nbconvert_exporter": "python",
   "pygments_lexer": "ipython3",
   "version": "3.8.3"
  }
 },
 "nbformat": 4,
 "nbformat_minor": 4
}
