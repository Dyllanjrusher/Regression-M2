{
 "cells": [
  {
   "cell_type": "code",
   "execution_count": 1,
   "metadata": {},
   "outputs": [],
   "source": [
    "from bs4 import BeautifulSoup\n",
    "import requests\n",
    "import re\n",
    "import time\n",
    "import pandas as pd\n",
    "from selenium import webdriver\n",
    "import pandas as pd"
   ]
  },
  {
   "cell_type": "code",
   "execution_count": 2,
   "metadata": {},
   "outputs": [],
   "source": [
    "from selenium import webdriver\n",
    "import pandas as pd"
   ]
  },
  {
   "cell_type": "code",
   "execution_count": 3,
   "metadata": {},
   "outputs": [],
   "source": [
    "def load_webpage():\n",
    "    driver = webdriver.Chrome('/usr/bin/chromedriver')\n",
    "    driver.get('https://nces.ed.gov/collegenavigator/')\n",
    "    return driver"
   ]
  },
  {
   "cell_type": "code",
   "execution_count": 4,
   "metadata": {},
   "outputs": [],
   "source": [
    "def get_search_options():\n",
    "    el = driver.find_element_by_id('MapWrap')\n",
    "    options = el.find_elements_by_tag_name('option')\n",
    "    return options"
   ]
  },
  {
   "cell_type": "code",
   "execution_count": 5,
   "metadata": {},
   "outputs": [],
   "source": [
    "def search_for_option(no_pref, option):\n",
    "    no_pref.click() #deselect no preference\n",
    "    option.click()\n",
    "    bachelors_button = driver.find_element_by_id('ctl00_cphCollegeNavBody_ucSearchMain_chkBach')\n",
    "    bachelors_button.click()\n",
    "    search_button = driver.find_element_by_id('ctl00_cphCollegeNavBody_ucSearchMain_btnSearch')\n",
    "    search_button.click()\n",
    "    return"
   ]
  },
  {
   "cell_type": "code",
   "execution_count": 6,
   "metadata": {},
   "outputs": [],
   "source": [
    "def get_student_pop():\n",
    "    try:\n",
    "        student_pop = driver.find_element_by_css_selector(\"#RightContent > div.dashboard > div > div:nth-child(2) > table > tbody > tr:nth-child(7) > td.srb + td\")\n",
    "        student_pop = re.findall('\\d+', student_pop.text.replace(',',''))[0]\n",
    "    except:\n",
    "        student_pop = None\n",
    "    return student_pop"
   ]
  },
  {
   "cell_type": "code",
   "execution_count": 7,
   "metadata": {},
   "outputs": [],
   "source": [
    "def get_college_data_row():\n",
    "    #right now I just grab the name and student population.\n",
    "    #ill probably have individual funcs for grabbing each param later.\n",
    "    college_data_row = []\n",
    "    name = driver.find_element_by_css_selector(\".headerlg\").text\n",
    "    student_pop = get_student_pop()\n",
    "    student_fac_ratio = find_student_faculty_ratio()\n",
    "    setting = find_campus_setting()\n",
    "    IPEDS_ID = get_IPEDS_ID()\n",
    "    expand_all()\n",
    "    perc_aid = get_percent_aid()\n",
    "    religious_aff = get_religious_aff()\n",
    "    perc_reg_disabled = get_registered_disability_perc()\n",
    "    full_time_fac, part_time_fac = get_faculty_full_part()\n",
    "    criminal_offenses, vawa_offenses, arrests, disciplinary_actions = get_college_offense_data()\n",
    "    avg_default_rate = get_avg_default_rate()\n",
    "    college_data_row.extend([name, student_pop, student_fac_ratio,\n",
    "                             setting, IPEDS_ID, perc_aid, religious_aff,\n",
    "                             perc_reg_disabled, full_time_fac, part_time_fac,\n",
    "                            criminal_offenses, vawa_offenses, arrests, disciplinary_actions,\n",
    "                            avg_default_rate])\n",
    "    print(college_data_row)\n",
    "    return college_data_row"
   ]
  },
  {
   "cell_type": "code",
   "execution_count": 8,
   "metadata": {},
   "outputs": [],
   "source": [
    "def get_data_on_page():\n",
    "    data = []\n",
    "    rows = driver.find_elements_by_css_selector(\".resultsTable > tbody > tr\")\n",
    "    for ix, row in enumerate(rows):\n",
    "        college_link = (driver\n",
    "               .find_elements_by_css_selector(\".resultsTable > tbody > tr\")[ix]\n",
    "               .find_element_by_css_selector(\"a\"))\n",
    "        college_link.click()\n",
    "        row = get_college_data_row()\n",
    "        data.append(row)\n",
    "        driver.back()\n",
    "    return data"
   ]
  },
  {
   "cell_type": "code",
   "execution_count": 9,
   "metadata": {},
   "outputs": [],
   "source": [
    "def next_page(selected_page_num):\n",
    "    css_addition = ' + a'*selected_page_num\n",
    "    try:\n",
    "        driver.find_element_by_css_selector('.colorful' + css_addition).click()\n",
    "        return True\n",
    "    except:\n",
    "        return False"
   ]
  },
  {
   "cell_type": "code",
   "execution_count": 10,
   "metadata": {},
   "outputs": [],
   "source": [
    "def get_data_for_all_pages():\n",
    "    data = get_data_on_page()\n",
    "    page_num = 1\n",
    "    can_go_to_next_page = next_page(page_num)\n",
    "    while can_go_to_next_page == True:\n",
    "        data.extend(get_data_on_page())\n",
    "        page_num += 1\n",
    "        can_go_to_next_page = next_page(page_num)\n",
    "    return data"
   ]
  },
  {
   "cell_type": "code",
   "execution_count": 11,
   "metadata": {},
   "outputs": [],
   "source": [
    "def get_all_college_data(driver):\n",
    "    option_ix = 1\n",
    "    college_data = []\n",
    "    more_options = True\n",
    "    while more_options:\n",
    "        options = get_search_options()\n",
    "        no_pref = options[0]\n",
    "        try:\n",
    "            option = options[option_ix]\n",
    "            search_for_option(no_pref, option)\n",
    "            college_data.extend(get_data_for_all_pages())\n",
    "            driver.get('https://nces.ed.gov/collegenavigator/')\n",
    "            option_ix += 1\n",
    "        except:\n",
    "            more_options = False\n",
    "    return college_data"
   ]
  },
  {
   "cell_type": "code",
   "execution_count": 12,
   "metadata": {},
   "outputs": [],
   "source": [
    "def get_info_table():\n",
    "    info_table = driver.find_element_by_css_selector('#RightContent > div.dashboard > div')\n",
    "    return info_table"
   ]
  },
  {
   "cell_type": "code",
   "execution_count": 13,
   "metadata": {},
   "outputs": [],
   "source": [
    "def find_number(text, c):\n",
    "    return re.search(r'%s(\\d+)' % c, text).group(1)"
   ]
  },
  {
   "cell_type": "code",
   "execution_count": 14,
   "metadata": {},
   "outputs": [],
   "source": [
    "def find_student_faculty_ratio():\n",
    "    try:\n",
    "        info = get_info_table().text\n",
    "        string = re.search('Student-to-faculty ratio:(.*)', info).group(1)\n",
    "        ratio = eval(string.strip().replace(' to ', '/'))\n",
    "        return ratio\n",
    "    except:\n",
    "        return None"
   ]
  },
  {
   "cell_type": "code",
   "execution_count": 15,
   "metadata": {},
   "outputs": [],
   "source": [
    "def find_campus_setting():\n",
    "    try:\n",
    "        info = get_info_table().text\n",
    "        setting = re.search('Campus setting:   (.*)\\n', info).group(1)\n",
    "        return setting\n",
    "    except:\n",
    "        return None"
   ]
  },
  {
   "cell_type": "code",
   "execution_count": 16,
   "metadata": {},
   "outputs": [],
   "source": [
    "def get_IPEDS_ID():\n",
    "    try:\n",
    "        info = get_info_table().text\n",
    "        url = str(driver.current_url)\n",
    "        ID = int(find_number(text = url, c = 'id='))\n",
    "        return ID\n",
    "    except:\n",
    "        return None"
   ]
  },
  {
   "cell_type": "code",
   "execution_count": 17,
   "metadata": {},
   "outputs": [],
   "source": [
    "def expand_all():\n",
    "    pointer = driver.find_element_by_css_selector('#RightContent > div.fadeyell > div > a:nth-child(1)')\n",
    "    pointer.click()\n",
    "    return"
   ]
  },
  {
   "cell_type": "code",
   "execution_count": 18,
   "metadata": {},
   "outputs": [],
   "source": [
    "def get_percent_aid():\n",
    "    table = get_all_table()\n",
    "    evals =[\"re.search('Any student (.*)%', table).group(1).split(' ')[-1]\",\n",
    "            \"re.search('\\d+,\\d+ (.*) —— ——\\nGrant or scholarship aid', table).group(1)\"]\n",
    "    for evaluation in evals:  \n",
    "        try:\n",
    "            aid_perc = eval(evaluation)\n",
    "            return aid_perc\n",
    "        except:\n",
    "            continue\n",
    "    else:\n",
    "        return None\n",
    "    "
   ]
  },
  {
   "cell_type": "code",
   "execution_count": 19,
   "metadata": {},
   "outputs": [],
   "source": [
    "def get_religious_aff():\n",
    "    table = get_all_table()\n",
    "    try:\n",
    "        aff = re.search('Religious Affiliation\\n(.*)\\n', table).group(1)\n",
    "        return aff\n",
    "    except:\n",
    "        return None"
   ]
  },
  {
   "cell_type": "code",
   "execution_count": 20,
   "metadata": {},
   "outputs": [],
   "source": [
    "def get_registered_disability_perc():\n",
    "    table = get_all_table()\n",
    "    try:\n",
    "        disability_perc = re.search('with office of disability services\\n(.*)\\n', table).group(1)\n",
    "        return disability_perc\n",
    "    except:\n",
    "        return None"
   ]
  },
  {
   "cell_type": "code",
   "execution_count": 21,
   "metadata": {},
   "outputs": [],
   "source": [
    "def get_all_table():\n",
    "    table = driver.find_element_by_css_selector('#RightContent').text\n",
    "    return table"
   ]
  },
  {
   "cell_type": "code",
   "execution_count": 22,
   "metadata": {},
   "outputs": [],
   "source": [
    "def get_faculty_full_part():\n",
    "    table = get_all_table()\n",
    "    try:\n",
    "        fac = re.search('\\nTotal faculty(.*)\\n', table).group(1)\n",
    "        fac = fac.split(' ')\n",
    "        full_time = fac[1]\n",
    "        part_time = fac[2]\n",
    "        return full_time, part_time\n",
    "    except:\n",
    "        return None, None"
   ]
  },
  {
   "cell_type": "code",
   "execution_count": 23,
   "metadata": {},
   "outputs": [],
   "source": [
    "def get_college_offense_data():\n",
    "    '''\n",
    "    Returns criminal_offenses, vawa_offeneses, arrests, disciplinary_actions\n",
    "    \n",
    "    \n",
    "    sum of Criminal_Offenses, VAWA Offenses, Arrests, Disciplinary Actions from 2015,2016,2017.\n",
    "    Offenses include Murder, Negligent Manslaughter, Rape, Fondling, Incest??,\n",
    "    Statutory Rape, Robbery, Assault, Burglary, Vehicle Theft, Arson. \n",
    "    Vawa Offences are domestic violoence, dating violence, stalking.\n",
    "    Arrests are for weapons, possesion, drug abuse, liquor law violations.\n",
    "    Disciplinary are for weapons, possesion, drug abuse, liquor law violations.\n",
    "    '''\n",
    "    try:\n",
    "        table = driver.find_element_by_css_selector('#divctl00_cphCollegeNavBody_ucInstitutionMain_ctl11 > div > table > tbody').text\n",
    "        table = table.replace('2017', '')\n",
    "        table = table.replace('2016', '')\n",
    "        table = table.replace('2015', '')\n",
    "        nums = [int(num) for num in table if num.isnumeric()]\n",
    "        criminal_offenses = sum(nums[0:33])\n",
    "        vawa_offenses = sum(nums[33:42])\n",
    "        arrests = sum(nums[42:51])\n",
    "        disciplinary_actions = sum(nums[51:])\n",
    "        return criminal_offenses, vawa_offenses, arrests, disciplinary_actions\n",
    "    except:\n",
    "        return None, None, None, None\n",
    "    "
   ]
  },
  {
   "cell_type": "code",
   "execution_count": 24,
   "metadata": {},
   "outputs": [],
   "source": [
    "def get_avg_default_rate():\n",
    "    '''Returns avg default rate from 2016, 2015, 2014'''\n",
    "    table = driver.find_element_by_css_selector('#fedloans').text\n",
    "    try:\n",
    "        rates = re.search('Default rate (.*)\\nNumber in default', table).group(1).replace('%', '').split(' ')\n",
    "        rate_nums = [float(rate) for rate in rates]\n",
    "        avg_rates = sum(rate_nums)/3\n",
    "        return round(avg_rates,2)\n",
    "    except:\n",
    "        return None"
   ]
  },
  {
   "cell_type": "code",
   "execution_count": null,
   "metadata": {},
   "outputs": [],
   "source": []
  },
  {
   "cell_type": "code",
   "execution_count": 25,
   "metadata": {},
   "outputs": [],
   "source": [
    "driver = load_webpage()"
   ]
  },
  {
   "cell_type": "code",
   "execution_count": 27,
   "metadata": {},
   "outputs": [
    {
     "name": "stdout",
     "output_type": "stream",
     "text": [
      "['Alabama A & M University', '6106', 20.0, 'City: Midsize', 100654, '90', 'Not applicable', '3% or less', '259', '95', 22, 14, 24, 62, 18.97]\n"
     ]
    },
    {
     "data": {
      "text/plain": [
       "[]"
      ]
     },
     "execution_count": 27,
     "metadata": {},
     "output_type": "execute_result"
    }
   ],
   "source": [
    "get_all_college_data(driver)"
   ]
  },
  {
   "cell_type": "code",
   "execution_count": null,
   "metadata": {},
   "outputs": [],
   "source": []
  },
  {
   "cell_type": "code",
   "execution_count": null,
   "metadata": {},
   "outputs": [],
   "source": []
  },
  {
   "cell_type": "code",
   "execution_count": null,
   "metadata": {},
   "outputs": [],
   "source": []
  },
  {
   "cell_type": "code",
   "execution_count": null,
   "metadata": {},
   "outputs": [],
   "source": []
  },
  {
   "cell_type": "code",
   "execution_count": null,
   "metadata": {},
   "outputs": [],
   "source": []
  },
  {
   "cell_type": "code",
   "execution_count": null,
   "metadata": {},
   "outputs": [],
   "source": []
  },
  {
   "cell_type": "code",
   "execution_count": null,
   "metadata": {},
   "outputs": [],
   "source": []
  },
  {
   "cell_type": "code",
   "execution_count": null,
   "metadata": {},
   "outputs": [],
   "source": []
  },
  {
   "cell_type": "code",
   "execution_count": null,
   "metadata": {},
   "outputs": [],
   "source": []
  },
  {
   "cell_type": "code",
   "execution_count": null,
   "metadata": {},
   "outputs": [],
   "source": []
  },
  {
   "cell_type": "code",
   "execution_count": null,
   "metadata": {},
   "outputs": [],
   "source": []
  },
  {
   "cell_type": "code",
   "execution_count": null,
   "metadata": {},
   "outputs": [],
   "source": []
  },
  {
   "cell_type": "code",
   "execution_count": null,
   "metadata": {},
   "outputs": [],
   "source": []
  },
  {
   "cell_type": "code",
   "execution_count": null,
   "metadata": {},
   "outputs": [],
   "source": []
  },
  {
   "cell_type": "code",
   "execution_count": null,
   "metadata": {},
   "outputs": [],
   "source": []
  },
  {
   "cell_type": "code",
   "execution_count": null,
   "metadata": {},
   "outputs": [],
   "source": []
  },
  {
   "cell_type": "code",
   "execution_count": null,
   "metadata": {},
   "outputs": [],
   "source": []
  },
  {
   "cell_type": "code",
   "execution_count": null,
   "metadata": {},
   "outputs": [],
   "source": []
  },
  {
   "cell_type": "code",
   "execution_count": null,
   "metadata": {},
   "outputs": [],
   "source": []
  },
  {
   "cell_type": "code",
   "execution_count": null,
   "metadata": {},
   "outputs": [],
   "source": []
  },
  {
   "cell_type": "code",
   "execution_count": null,
   "metadata": {},
   "outputs": [],
   "source": []
  },
  {
   "cell_type": "code",
   "execution_count": null,
   "metadata": {},
   "outputs": [],
   "source": []
  },
  {
   "cell_type": "code",
   "execution_count": null,
   "metadata": {},
   "outputs": [],
   "source": []
  },
  {
   "cell_type": "code",
   "execution_count": null,
   "metadata": {},
   "outputs": [],
   "source": []
  },
  {
   "cell_type": "code",
   "execution_count": null,
   "metadata": {},
   "outputs": [],
   "source": []
  },
  {
   "cell_type": "code",
   "execution_count": null,
   "metadata": {},
   "outputs": [],
   "source": []
  },
  {
   "cell_type": "code",
   "execution_count": null,
   "metadata": {},
   "outputs": [],
   "source": []
  },
  {
   "cell_type": "code",
   "execution_count": null,
   "metadata": {},
   "outputs": [],
   "source": []
  },
  {
   "cell_type": "code",
   "execution_count": null,
   "metadata": {},
   "outputs": [],
   "source": []
  },
  {
   "cell_type": "code",
   "execution_count": null,
   "metadata": {},
   "outputs": [],
   "source": []
  },
  {
   "cell_type": "code",
   "execution_count": null,
   "metadata": {},
   "outputs": [],
   "source": []
  },
  {
   "cell_type": "code",
   "execution_count": null,
   "metadata": {},
   "outputs": [],
   "source": []
  },
  {
   "cell_type": "code",
   "execution_count": null,
   "metadata": {},
   "outputs": [],
   "source": []
  },
  {
   "cell_type": "code",
   "execution_count": null,
   "metadata": {},
   "outputs": [],
   "source": []
  },
  {
   "cell_type": "code",
   "execution_count": null,
   "metadata": {},
   "outputs": [],
   "source": []
  },
  {
   "cell_type": "code",
   "execution_count": null,
   "metadata": {},
   "outputs": [],
   "source": []
  },
  {
   "cell_type": "code",
   "execution_count": null,
   "metadata": {},
   "outputs": [],
   "source": []
  },
  {
   "cell_type": "code",
   "execution_count": null,
   "metadata": {},
   "outputs": [],
   "source": []
  },
  {
   "cell_type": "code",
   "execution_count": null,
   "metadata": {},
   "outputs": [],
   "source": []
  },
  {
   "cell_type": "code",
   "execution_count": null,
   "metadata": {},
   "outputs": [],
   "source": []
  },
  {
   "cell_type": "code",
   "execution_count": null,
   "metadata": {},
   "outputs": [],
   "source": []
  },
  {
   "cell_type": "code",
   "execution_count": null,
   "metadata": {},
   "outputs": [],
   "source": []
  },
  {
   "cell_type": "code",
   "execution_count": null,
   "metadata": {},
   "outputs": [],
   "source": []
  },
  {
   "cell_type": "code",
   "execution_count": null,
   "metadata": {},
   "outputs": [],
   "source": []
  },
  {
   "cell_type": "code",
   "execution_count": null,
   "metadata": {},
   "outputs": [],
   "source": []
  }
 ],
 "metadata": {
  "kernelspec": {
   "display_name": "Python [conda env:metis] *",
   "language": "python",
   "name": "conda-env-metis-py"
  },
  "language_info": {
   "codemirror_mode": {
    "name": "ipython",
    "version": 3
   },
   "file_extension": ".py",
   "mimetype": "text/x-python",
   "name": "python",
   "nbconvert_exporter": "python",
   "pygments_lexer": "ipython3",
   "version": "3.8.3"
  }
 },
 "nbformat": 4,
 "nbformat_minor": 4
}
